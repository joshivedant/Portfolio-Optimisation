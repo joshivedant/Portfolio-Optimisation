{
 "cells": [
  {
   "cell_type": "markdown",
   "metadata": {},
   "source": [
    "importing libraries"
   ]
  },
  {
   "cell_type": "code",
   "execution_count": 1,
   "metadata": {},
   "outputs": [],
   "source": [
    "import time\n",
    "import datetime\n",
    "import pandas as pd\n",
    "import urllib.request"
   ]
  },
  {
   "cell_type": "markdown",
   "metadata": {},
   "source": [
    "Downloading historical data of companies"
   ]
  },
  {
   "cell_type": "code",
   "execution_count": 2,
   "metadata": {},
   "outputs": [
    {
     "data": {
      "text/html": [
       "<div>\n",
       "<style scoped>\n",
       "    .dataframe tbody tr th:only-of-type {\n",
       "        vertical-align: middle;\n",
       "    }\n",
       "\n",
       "    .dataframe tbody tr th {\n",
       "        vertical-align: top;\n",
       "    }\n",
       "\n",
       "    .dataframe thead th {\n",
       "        text-align: right;\n",
       "    }\n",
       "</style>\n",
       "<table border=\"1\" class=\"dataframe\">\n",
       "  <thead>\n",
       "    <tr style=\"text-align: right;\">\n",
       "      <th></th>\n",
       "      <th>Company Name</th>\n",
       "      <th>Industry</th>\n",
       "      <th>Symbol</th>\n",
       "      <th>Series</th>\n",
       "      <th>ISIN Code</th>\n",
       "    </tr>\n",
       "  </thead>\n",
       "  <tbody>\n",
       "    <tr>\n",
       "      <th>0</th>\n",
       "      <td>3M India Ltd.</td>\n",
       "      <td>Diversified</td>\n",
       "      <td>3MINDIA</td>\n",
       "      <td>EQ</td>\n",
       "      <td>INE470A01017</td>\n",
       "    </tr>\n",
       "    <tr>\n",
       "      <th>1</th>\n",
       "      <td>ABB India Ltd.</td>\n",
       "      <td>Capital Goods</td>\n",
       "      <td>ABB</td>\n",
       "      <td>EQ</td>\n",
       "      <td>INE117A01022</td>\n",
       "    </tr>\n",
       "    <tr>\n",
       "      <th>2</th>\n",
       "      <td>ACC Ltd.</td>\n",
       "      <td>Construction Materials</td>\n",
       "      <td>ACC</td>\n",
       "      <td>EQ</td>\n",
       "      <td>INE012A01025</td>\n",
       "    </tr>\n",
       "    <tr>\n",
       "      <th>3</th>\n",
       "      <td>AIA Engineering Ltd.</td>\n",
       "      <td>Capital Goods</td>\n",
       "      <td>AIAENG</td>\n",
       "      <td>EQ</td>\n",
       "      <td>INE212H01026</td>\n",
       "    </tr>\n",
       "    <tr>\n",
       "      <th>4</th>\n",
       "      <td>APL Apollo Tubes Ltd.</td>\n",
       "      <td>Capital Goods</td>\n",
       "      <td>APLAPOLLO</td>\n",
       "      <td>EQ</td>\n",
       "      <td>INE702C01027</td>\n",
       "    </tr>\n",
       "  </tbody>\n",
       "</table>\n",
       "</div>"
      ],
      "text/plain": [
       "            Company Name                Industry     Symbol Series  \\\n",
       "0          3M India Ltd.             Diversified    3MINDIA     EQ   \n",
       "1         ABB India Ltd.           Capital Goods        ABB     EQ   \n",
       "2               ACC Ltd.  Construction Materials        ACC     EQ   \n",
       "3   AIA Engineering Ltd.           Capital Goods     AIAENG     EQ   \n",
       "4  APL Apollo Tubes Ltd.           Capital Goods  APLAPOLLO     EQ   \n",
       "\n",
       "      ISIN Code  \n",
       "0  INE470A01017  \n",
       "1  INE117A01022  \n",
       "2  INE012A01025  \n",
       "3  INE212H01026  \n",
       "4  INE702C01027  "
      ]
     },
     "execution_count": 2,
     "metadata": {},
     "output_type": "execute_result"
    }
   ],
   "source": [
    "listname = pd.read_csv(\"_ind_nifty500list.csv\")\n",
    "listname.head()"
   ]
  },
  {
   "cell_type": "code",
   "execution_count": 3,
   "metadata": {},
   "outputs": [],
   "source": [
    "for ticker in listname['Symbol']:\n",
    "    period1 = int(time.mktime(datetime.datetime(2022, 2, 9, 5, 30).timetuple())) # 9-Feb\n",
    "    period2 = int(time.mktime(datetime.datetime(2022, 8, 10, 5, 30).timetuple())) # 9-Aug\n",
    "    interval = \"1d\"\n",
    "\n",
    "    query_string = \"https://query1.finance.yahoo.com/v7/finance/download/{0}.NS?period1={1}&period2={2}&interval={3}&events=history&includeAdjustedClose=true\".format(ticker, period1, period2, interval)\n",
    "\n",
    "    try:\n",
    "        urllib.request.urlretrieve(query_string, \"{}.csv\".format(ticker))\n",
    "    except:\n",
    "        continue"
   ]
  }
 ],
 "metadata": {
  "kernelspec": {
   "display_name": "Python 3.7.11 ('learnTF')",
   "language": "python",
   "name": "python3"
  },
  "language_info": {
   "codemirror_mode": {
    "name": "ipython",
    "version": 3
   },
   "file_extension": ".py",
   "mimetype": "text/x-python",
   "name": "python",
   "nbconvert_exporter": "python",
   "pygments_lexer": "ipython3",
   "version": "3.7.11"
  },
  "orig_nbformat": 4,
  "vscode": {
   "interpreter": {
    "hash": "28ef7074259f1e269e51f285c8135d97260d8acdedf81e06521710a0b16efd4d"
   }
  }
 },
 "nbformat": 4,
 "nbformat_minor": 2
}
